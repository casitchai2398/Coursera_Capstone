{
    "cells": [
        {
            "cell_type": "markdown",
            "metadata": {
                "collapsed": true
            },
            "source": "# Best Cities for Tech People in Canada, 2021 "
        },
        {
            "cell_type": "markdown",
            "metadata": {},
            "source": "## Introduction  \nThis project will be showing comparison and similarity analysis among the three cities in Canada with great career opportunities for tech people, helping people moving to Canada choose the right place to start their first career after landing in Canada.   \n \nI plan to going to Canada with my boyfriend after graduating from college in the U.S. Since I studied Information Systems for undergrad, I am looking for a city with great concentration of tech companies, which comes with larger demand in technical jobs, or a city will higher average salary for entry-level technical jobs, such as Business System Analysts and Software Developers, etc, so that I can get paid more to support my family, or a city that generate higher growth on economy, so that I can get better opportunities in various industries and get higher salary in the future. \n\n**Therefore, cities will be ranked based on the following three weighted criteria, and be choosen for neighborhood comparison**:\n1. Growth of GDP (30%)\n2. Concentration of Tech Companies (30%)\n3. Average Salary for Entry-Level Software Developer and Business Analyst (40%)\n\nI hope this report will help people making similar career decisions like me to choose the very first city to land their career at. "
        },
        {
            "cell_type": "markdown",
            "metadata": {},
            "source": "## Data Understanding\n\nThe data set came from different source including **Wikipedia**, for the complete list of cities, technology companies in Canada, **Statista**, and **Foursquare**, for exploring venues around each neighborhood. The datasets will be cleaned into usable data before used in the analysis. For exmaple, I will move the missing values and \"not assigned\" out of the database and make proper accomendates to the dataset.\n\n- *List of technology companies in Canada:*\nhttps://en.wikipedia.org/wiki/Category:Technology_companies_of_Canada  \n- *List of Canadian provinces and territories by gross domestic product:* https://en.wikipedia.org/wiki/List_of_Canadian_provinces_and_territories_by_gross_domestic_product\n- *Average salary for tech:*\nhttps://www.statista.com/statistics/730764/canadian-it-professionals-salary-provinces/"
        },
        {
            "cell_type": "code",
            "execution_count": 2,
            "metadata": {},
            "outputs": [],
            "source": "#gether data for the three criteria\n"
        },
        {
            "cell_type": "code",
            "execution_count": 1,
            "metadata": {},
            "outputs": [],
            "source": "#clean data ready for comparison\n"
        },
        {
            "cell_type": "markdown",
            "metadata": {},
            "source": "## Methodology   \n*exploratory data analysis that you did, any inferential statistical testing that you performed, if any, and what machine learnings were used and why*  \n- Bar Charts --> compare GDP growth for all cities in Canada\n- Histogram Charts --> count number of each type of venue for the three cities\n- Folium --> Graph maps that visualize the distribution of different venue groups\n- K-Mean --> sort neighborhoods based on their venue categories"
        },
        {
            "cell_type": "markdown",
            "metadata": {},
            "source": "### Choose the Top Three Cities"
        },
        {
            "cell_type": "code",
            "execution_count": null,
            "metadata": {},
            "outputs": [],
            "source": ""
        },
        {
            "cell_type": "code",
            "execution_count": null,
            "metadata": {},
            "outputs": [],
            "source": ""
        },
        {
            "cell_type": "markdown",
            "metadata": {},
            "source": "### Explore Neighborhoods in the city"
        },
        {
            "cell_type": "code",
            "execution_count": null,
            "metadata": {},
            "outputs": [],
            "source": ""
        },
        {
            "cell_type": "code",
            "execution_count": null,
            "metadata": {},
            "outputs": [],
            "source": ""
        },
        {
            "cell_type": "markdown",
            "metadata": {},
            "source": "## Result"
        },
        {
            "cell_type": "markdown",
            "metadata": {},
            "source": "## Discussion"
        },
        {
            "cell_type": "markdown",
            "metadata": {},
            "source": "## Conclusion"
        }
    ],
    "metadata": {
        "kernelspec": {
            "display_name": "Python 3.6",
            "language": "python",
            "name": "python3"
        },
        "language_info": {
            "codemirror_mode": {
                "name": "ipython",
                "version": 3
            },
            "file_extension": ".py",
            "mimetype": "text/x-python",
            "name": "python",
            "nbconvert_exporter": "python",
            "pygments_lexer": "ipython3",
            "version": "3.6.9"
        }
    },
    "nbformat": 4,
    "nbformat_minor": 1
}